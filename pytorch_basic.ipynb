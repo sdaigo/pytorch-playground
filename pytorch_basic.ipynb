{
  "nbformat": 4,
  "nbformat_minor": 0,
  "metadata": {
    "colab": {
      "name": "pytorch_basic.ipynb",
      "provenance": [],
      "collapsed_sections": [],
      "authorship_tag": "ABX9TyPzlsaQzE13Ik6SAOEuFu2U",
      "include_colab_link": true
    },
    "kernelspec": {
      "name": "python3",
      "display_name": "Python 3"
    },
    "language_info": {
      "name": "python"
    },
    "accelerator": "GPU"
  },
  "cells": [
    {
      "cell_type": "markdown",
      "metadata": {
        "id": "view-in-github",
        "colab_type": "text"
      },
      "source": [
        "<a href=\"https://colab.research.google.com/github/sdaigo/pytorch-playground/blob/main/pytorch_basic.ipynb\" target=\"_parent\"><img src=\"https://colab.research.google.com/assets/colab-badge.svg\" alt=\"Open In Colab\"/></a>"
      ]
    },
    {
      "cell_type": "code",
      "execution_count": 2,
      "metadata": {
        "id": "Dl5TbVqOkCDO"
      },
      "outputs": [],
      "source": [
        "import torch\n",
        "from torchvision.datasets import MNIST # 手書き文字画像のデータ\n",
        "from torchvision import transforms\n",
        "from torch.utils.data import DataLoader"
      ]
    },
    {
      "cell_type": "code",
      "source": [
        "# get train data\n",
        "mnist_train = MNIST(\"./data\", train=True, download=True, transform=transforms.ToTensor())\n",
        "\n",
        "# get test data\n",
        "mnist_test = MNIST(\"./data\", train=False, download=True, transform=transforms.ToTensor())"
      ],
      "metadata": {
        "id": "ygUCk5WOlxzq"
      },
      "execution_count": 5,
      "outputs": []
    },
    {
      "cell_type": "code",
      "source": [
        "print(f\"train data: {len(mnist_train)}\")\n",
        "print(f\"test data: {len(mnist_test)}\")"
      ],
      "metadata": {
        "colab": {
          "base_uri": "https://localhost:8080/"
        },
        "id": "AkspVg6fmfXS",
        "outputId": "024c8d37-1edd-42bf-bb5e-ff1b0949bafa"
      },
      "execution_count": 6,
      "outputs": [
        {
          "output_type": "stream",
          "name": "stdout",
          "text": [
            "train data: 60000\n",
            "test data: 10000\n"
          ]
        }
      ]
    },
    {
      "cell_type": "code",
      "source": [
        "# Settings for DataLoader\n",
        "img_size = 28 # image size for hand written image\n",
        "batch_size = 256\n",
        "\n",
        "train_loader = DataLoader(mnist_train, batch_size=batch_size, shuffle=True)\n",
        "test_loader = DataLoader(mnist_test, batch_size=batch_size, shuffle=False)"
      ],
      "metadata": {
        "id": "45XyO3HRmmCA"
      },
      "execution_count": 7,
      "outputs": []
    },
    {
      "cell_type": "code",
      "source": [
        "import torch.nn as nn\n",
        "import torch.nn.functional as F\n",
        "\n",
        "class Net(nn.Module):\n",
        "  def __init__(self):\n",
        "    super().__init__()\n",
        "    self.fc1 = nn.Linear(img_size * img_size, 1024)\n",
        "    self.fc2 = nn.Linear(1024, 512)\n",
        "    self.fc3 = nn.Linear(512, 10) # 10 classes\n",
        "\n",
        "  def forward(self, x):\n",
        "    x = x.view(-1, img_size * img_size)\n",
        "    x = F.relu(self.fc1(x))\n",
        "    x = F.relu(self.fc2(x))\n",
        "    x = self.fc3(x)\n",
        "\n",
        "    return x"
      ],
      "metadata": {
        "id": "yWm-0D4Im_uD"
      },
      "execution_count": 13,
      "outputs": []
    },
    {
      "cell_type": "code",
      "source": [
        "net = Net()\n",
        "net.cuda()\n",
        "\n",
        "print(net)"
      ],
      "metadata": {
        "colab": {
          "base_uri": "https://localhost:8080/"
        },
        "id": "y1ABbGxbn2dV",
        "outputId": "5bafcb86-c19a-4529-fb15-6305d8cdfc7f"
      },
      "execution_count": 14,
      "outputs": [
        {
          "output_type": "stream",
          "name": "stdout",
          "text": [
            "Net(\n",
            "  (fc1): Linear(in_features=784, out_features=1024, bias=True)\n",
            "  (fc2): Linear(in_features=1024, out_features=512, bias=True)\n",
            "  (fc3): Linear(in_features=512, out_features=10, bias=True)\n",
            ")\n"
          ]
        }
      ]
    },
    {
      "cell_type": "markdown",
      "source": [
        "# Train model"
      ],
      "metadata": {
        "id": "y2zoZ9rZoIR1"
      }
    },
    {
      "cell_type": "code",
      "source": [
        "from torch import optim\n",
        "\n",
        "loss_func = nn.CrossEntropyLoss()\n",
        "optimizer = optim.SGD(net.parameters(), lr=0.01)\n",
        "\n",
        "record_loss_train = []\n",
        "record_loss_test = []\n",
        "\n",
        "for i in range(10): # 10 Epoch\n",
        "  net.train()\n",
        "\n",
        "  loss_train = 0\n",
        "\n",
        "  for j, (x, t) in enumerate(train_loader):\n",
        "    x, t = x.cuda(), t.cuda()\n",
        "    y = net(x)\n",
        "    loss = loss_func(y, t)\n",
        "    loss_train += loss.item()\n",
        "\n",
        "    optimizer.zero_grad()\n",
        "\n",
        "    loss.backward()\n",
        "    optimizer.step()\n",
        "  \n",
        "  loss_train /= j + 1\n",
        "  record_loss_train.append(loss_train)\n",
        "\n",
        "  net.eval()\n",
        "\n",
        "  loss_test = 0\n",
        "\n",
        "  for j, (x, t) in enumerate(test_loader):\n",
        "    x, t = x.cuda(), t.cuda()\n",
        "    y = net(x)\n",
        "    loss = loss_func(y, t)\n",
        "    loss_test += loss.item()\n",
        "\n",
        "  loss_test /= j + 1\n",
        "  record_loss_test.append(loss_test)\n",
        "\n",
        "  if i % 1 == 0:\n",
        "    print(f\"Epoch: {i} Loss_train: {loss_train} Loss_test: {loss_test}\")"
      ],
      "metadata": {
        "colab": {
          "base_uri": "https://localhost:8080/"
        },
        "id": "2I_U0eWtn5SL",
        "outputId": "b9edd040-1c34-41ab-d561-bbcb3d48c6e0"
      },
      "execution_count": 15,
      "outputs": [
        {
          "output_type": "stream",
          "name": "stdout",
          "text": [
            "Epoch: 0 Loss_train: 2.2269533177639578 Loss_test: 2.111971598863602\n",
            "Epoch: 1 Loss_train: 1.8652245526618145 Loss_test: 1.4978727996349335\n",
            "Epoch: 2 Loss_train: 1.1590134042374631 Loss_test: 0.8587035715579987\n",
            "Epoch: 3 Loss_train: 0.7408090804485564 Loss_test: 0.6117311343550682\n",
            "Epoch: 4 Loss_train: 0.5733355712383351 Loss_test: 0.500189657509327\n",
            "Epoch: 5 Loss_train: 0.4889220426691339 Loss_test: 0.43880375325679777\n",
            "Epoch: 6 Loss_train: 0.4396474890252377 Loss_test: 0.39944595079869033\n",
            "Epoch: 7 Loss_train: 0.40648709700462665 Loss_test: 0.37359803896397353\n",
            "Epoch: 8 Loss_train: 0.3832164966045542 Loss_test: 0.35420329850167037\n",
            "Epoch: 9 Loss_train: 0.3659406154713732 Loss_test: 0.340089650824666\n"
          ]
        }
      ]
    },
    {
      "cell_type": "code",
      "source": [
        "import matplotlib.pyplot as plt\n",
        "\n",
        "plt.plot(range(len(record_loss_train)), record_loss_train, label=\"Train\")\n",
        "plt.plot(range(len(record_loss_test)), record_loss_test, label=\"Test\")\n",
        "\n",
        "plt.legend()\n",
        "plt.xlabel(\"Epochs\")\n",
        "plt.ylabel(\"Loss\")\n",
        "\n",
        "plt.show()"
      ],
      "metadata": {
        "colab": {
          "base_uri": "https://localhost:8080/",
          "height": 279
        },
        "id": "RA3ybPt4pchA",
        "outputId": "2fa8683c-b9ad-4cb1-d6c7-8f35f55ae60a"
      },
      "execution_count": 19,
      "outputs": [
        {
          "output_type": "display_data",
          "data": {
            "image/png": "[encoded data removed]",
            "text/plain": [
              "<Figure size 432x288 with 1 Axes>"
            ]
          },
          "metadata": {
            "needs_background": "light"
          }
        }
      ]
    },
    {
      "cell_type": "markdown",
      "source": [
        "# Accuracy"
      ],
      "metadata": {
        "id": "PR7iMqX9rkmo"
      }
    },
    {
      "cell_type": "code",
      "source": [
        "correct = 0\n",
        "total = 0\n",
        "\n",
        "for i, (x, t) in enumerate(test_loader):\n",
        "  x, t = x.cuda(), t.cuda()\n",
        "  x = x.view(-1, img_size * img_size)\n",
        "  y = net(x)\n",
        "\n",
        "  correct += (y.argmax(1) == t).sum().item()\n",
        "  total += len(x)\n",
        "\n",
        "print(f\"Accuracy: {str(correct/total*100)}%\")"
      ],
      "metadata": {
        "colab": {
          "base_uri": "https://localhost:8080/"
        },
        "id": "mHQ_54OorD2q",
        "outputId": "3b0c227b-9bb4-4692-81a8-8ae37fad8675"
      },
      "execution_count": 20,
      "outputs": [
        {
          "output_type": "stream",
          "name": "stdout",
          "text": [
            "Accuracy: 90.39%\n"
          ]
        }
      ]
    },
    {
      "cell_type": "code",
      "source": [
        ""
      ],
      "metadata": {
        "id": "DMpFyEA_r5ul"
      },
      "execution_count": null,
      "outputs": []
    }
  ]
}